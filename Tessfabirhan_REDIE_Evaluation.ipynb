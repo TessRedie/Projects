{
 "cells": [
  {
   "cell_type": "markdown",
   "metadata": {
    "id": "pJsqufvk5fOq"
   },
   "source": [
    "# Tesfabirhan W. REDIE\n",
    "\n",
    "\n",
    "# Dev IA - Evaluation n°1 - Mars 2022\n",
    "Ceci est un point d'étape pour évaluer les compétences acquises à ce stade. \n",
    "  \n",
    "Faites une copie de ce notebook, modifiez-le librement puis partager votre travail en fin de session sur Simplonline (veuillez vous assurer que les accès à votre document sont autorisés à des tiers).\n"
   ]
  },
  {
   "cell_type": "markdown",
   "metadata": {
    "id": "NL7TYnxCsIf9"
   },
   "source": [
    "## Objectifs\n",
    "Pour toute les étapes ci-dessous il vous est demandé d'**argumenter vos choix** et d'**expliquer les résultats** obtenus."
   ]
  },
  {
   "cell_type": "markdown",
   "metadata": {
    "id": "XJKGONpNZ2yq"
   },
   "source": [
    "* Réaliser une EDA (Exploratory Data Analysis) sur le jeu de données\n",
    "  - Descrire les données\n",
    "  - Réaliser une analyse univariée et bivariée\n",
    "\n",
    "* Réaliser le preprocessing des données\n",
    "  - Gérer les données manquantes\n",
    "  - Procéder à la normalisation / encodage\n",
    "\n",
    "* Entrainer un modèle d'apprentissage supervisé\n",
    "  - Choisir un modèle répondant aux objectifs du projet\n",
    "  - Définir les paramètres du modèle\n",
    "  - Utiliser la validation croisée\n",
    "\n",
    "* Evaluer le modèle\n",
    "  - Choisir la ou les métriques d'erreur\n",
    "  - Valider les performances obtenues\n",
    "\n",
    "* Conclure\n",
    "  - Réalisation du projet\n",
    "  - Difficultés\n",
    "  - Performance\n",
    "  - ...\n"
   ]
  },
  {
   "cell_type": "markdown",
   "metadata": {
    "id": "czz8lt5vtN38"
   },
   "source": [
    "## Bonus\n",
    "Pour ceux qui veulent aller plus loin, vous pouvez notamment :"
   ]
  },
  {
   "cell_type": "markdown",
   "metadata": {
    "id": "Ua0qvJPmZ24p"
   },
   "source": [
    "* Utiliser un Pipeline\n",
    "* Procéder à une recherche exhaustive des hyper-paramètres (grid search)\n",
    "* Procéder à une comparaison de modèles\n",
    "* Réaliser une prédiction sur des nouvelles données\n",
    "* Restituer des graphiques pour améliorer la compréhension du projet\n",
    "* Laisser parler votre intuition ..."
   ]
  },
  {
   "cell_type": "markdown",
   "metadata": {
    "id": "YO9riWqL886F"
   },
   "source": [
    "##Le jeu de données\n",
    "Le jeu de données est disponible ci-dessous.  \n",
    "Il concerne le recensement d'animaux marins (dauphins) selon différentes caractéristiques :\n",
    "* la cible à prédire est la colonne `variety`\n",
    "* les features (numériques et catégorielles) sont toutes les autres colonnes :\n",
    "  - `area` : zone géographique où l'animal réside\n",
    "  - `dimension_1_mm` : dimension n°1 de l'animal\n",
    "  - `dimension_2_mm` : dimension n°2 de l'animal\n",
    "  - `dimension_3_mm` : dimension n°3 de l'animal\n",
    "  - `mass_g` : masse de l'animal\n",
    "  - `sex` : genre de l'animal"
   ]
  },
  {
   "cell_type": "markdown",
   "metadata": {
    "id": "8-9zIZB7HTQ0"
   },
   "source": [
    "## 1. Libraries"
   ]
  },
  {
   "cell_type": "code",
   "execution_count": 1,
   "metadata": {
    "id": "MC1NDaO6GrGB"
   },
   "outputs": [],
   "source": [
    "#libraries\n",
    "\n",
    "import pandas as pd\n",
    "import numpy as np\n",
    "\n",
    "import matplotlib.pyplot as plt\n",
    "import seaborn as sns\n",
    "import matplotlib.cm as cm"
   ]
  },
  {
   "cell_type": "markdown",
   "metadata": {
    "id": "bBD8iKDqMypv"
   },
   "source": [
    "## 2. Data "
   ]
  },
  {
   "cell_type": "code",
   "execution_count": 2,
   "metadata": {
    "colab": {
     "base_uri": "https://localhost:8080/",
     "height": 206
    },
    "id": "U4GqLhGX5Yth",
    "outputId": "fcf86d8b-d5de-495e-ac9e-47f6e0f70e7f"
   },
   "outputs": [
    {
     "data": {
      "text/html": [
       "<div>\n",
       "<style scoped>\n",
       "    .dataframe tbody tr th:only-of-type {\n",
       "        vertical-align: middle;\n",
       "    }\n",
       "\n",
       "    .dataframe tbody tr th {\n",
       "        vertical-align: top;\n",
       "    }\n",
       "\n",
       "    .dataframe thead th {\n",
       "        text-align: right;\n",
       "    }\n",
       "</style>\n",
       "<table border=\"1\" class=\"dataframe\">\n",
       "  <thead>\n",
       "    <tr style=\"text-align: right;\">\n",
       "      <th></th>\n",
       "      <th>variety</th>\n",
       "      <th>area</th>\n",
       "      <th>dimension_1_mm</th>\n",
       "      <th>dimension_2_mm</th>\n",
       "      <th>dimension_3_mm</th>\n",
       "      <th>mass_g</th>\n",
       "      <th>sex</th>\n",
       "    </tr>\n",
       "  </thead>\n",
       "  <tbody>\n",
       "    <tr>\n",
       "      <th>0</th>\n",
       "      <td>Tropicalis</td>\n",
       "      <td>Artic</td>\n",
       "      <td>39.1</td>\n",
       "      <td>18.7</td>\n",
       "      <td>181.0</td>\n",
       "      <td>3750.0</td>\n",
       "      <td>MALE</td>\n",
       "    </tr>\n",
       "    <tr>\n",
       "      <th>1</th>\n",
       "      <td>Tropicalis</td>\n",
       "      <td>Artic</td>\n",
       "      <td>39.5</td>\n",
       "      <td>17.4</td>\n",
       "      <td>186.0</td>\n",
       "      <td>3800.0</td>\n",
       "      <td>FEMALE</td>\n",
       "    </tr>\n",
       "    <tr>\n",
       "      <th>2</th>\n",
       "      <td>Tropicalis</td>\n",
       "      <td>Artic</td>\n",
       "      <td>40.3</td>\n",
       "      <td>18.0</td>\n",
       "      <td>195.0</td>\n",
       "      <td>3250.0</td>\n",
       "      <td>FEMALE</td>\n",
       "    </tr>\n",
       "    <tr>\n",
       "      <th>3</th>\n",
       "      <td>Tropicalis</td>\n",
       "      <td>Artic</td>\n",
       "      <td>NaN</td>\n",
       "      <td>NaN</td>\n",
       "      <td>NaN</td>\n",
       "      <td>NaN</td>\n",
       "      <td>NaN</td>\n",
       "    </tr>\n",
       "    <tr>\n",
       "      <th>4</th>\n",
       "      <td>Tropicalis</td>\n",
       "      <td>Artic</td>\n",
       "      <td>36.7</td>\n",
       "      <td>19.3</td>\n",
       "      <td>193.0</td>\n",
       "      <td>3450.0</td>\n",
       "      <td>FEMALE</td>\n",
       "    </tr>\n",
       "  </tbody>\n",
       "</table>\n",
       "</div>"
      ],
      "text/plain": [
       "      variety   area  dimension_1_mm  dimension_2_mm  dimension_3_mm  mass_g  \\\n",
       "0  Tropicalis  Artic            39.1            18.7           181.0  3750.0   \n",
       "1  Tropicalis  Artic            39.5            17.4           186.0  3800.0   \n",
       "2  Tropicalis  Artic            40.3            18.0           195.0  3250.0   \n",
       "3  Tropicalis  Artic             NaN             NaN             NaN     NaN   \n",
       "4  Tropicalis  Artic            36.7            19.3           193.0  3450.0   \n",
       "\n",
       "      sex  \n",
       "0    MALE  \n",
       "1  FEMALE  \n",
       "2  FEMALE  \n",
       "3     NaN  \n",
       "4  FEMALE  "
      ]
     },
     "execution_count": 2,
     "metadata": {},
     "output_type": "execute_result"
    }
   ],
   "source": [
    "#import data\n",
    "\n",
    "url = \"https://raw.githubusercontent.com/remijul/dataset/master/dolphins.csv\"\n",
    "\n",
    "df = pd.read_csv(url)\n",
    "df.head()"
   ]
  },
  {
   "cell_type": "markdown",
   "metadata": {
    "id": "aiL8O4FcM_j_"
   },
   "source": [
    "## 2. Explanatory Data Analysis, EDA"
   ]
  },
  {
   "cell_type": "markdown",
   "metadata": {
    "id": "oIoU90V2IWOe"
   },
   "source": [
    "### Dataset"
   ]
  },
  {
   "cell_type": "code",
   "execution_count": 3,
   "metadata": {
    "colab": {
     "base_uri": "https://localhost:8080/"
    },
    "id": "obWtf2GTHQF9",
    "outputId": "ce415652-5585-4492-a36a-5a7ff609f5b8"
   },
   "outputs": [
    {
     "data": {
      "text/plain": [
       "(344, 7)"
      ]
     },
     "execution_count": 3,
     "metadata": {},
     "output_type": "execute_result"
    }
   ],
   "source": [
    "## Dataset\n",
    "\n",
    "df.shape"
   ]
  },
  {
   "cell_type": "code",
   "execution_count": 4,
   "metadata": {
    "colab": {
     "base_uri": "https://localhost:8080/"
    },
    "id": "y895e_7jISB9",
    "outputId": "37959bdf-3fe4-4d33-bf3c-f00830f1d80d"
   },
   "outputs": [
    {
     "data": {
      "text/plain": [
       "Index(['variety', 'area', 'dimension_1_mm', 'dimension_2_mm', 'dimension_3_mm',\n",
       "       'mass_g', 'sex'],\n",
       "      dtype='object')"
      ]
     },
     "execution_count": 4,
     "metadata": {},
     "output_type": "execute_result"
    }
   ],
   "source": [
    "# columns\n",
    "\n",
    "df.columns"
   ]
  },
  {
   "cell_type": "markdown",
   "metadata": {
    "id": "VBNG5NGrJj-G"
   },
   "source": [
    " ` The dolphin document consists of 344 rows, and 7 columns.`"
   ]
  },
  {
   "cell_type": "code",
   "execution_count": 5,
   "metadata": {
    "colab": {
     "base_uri": "https://localhost:8080/"
    },
    "id": "oyPahqIMJEm5",
    "outputId": "b0ddd492-3461-44bd-fcc9-190149dfeaa5"
   },
   "outputs": [
    {
     "data": {
      "text/plain": [
       "variety            object\n",
       "area               object\n",
       "dimension_1_mm    float64\n",
       "dimension_2_mm    float64\n",
       "dimension_3_mm    float64\n",
       "mass_g            float64\n",
       "sex                object\n",
       "dtype: object"
      ]
     },
     "execution_count": 5,
     "metadata": {},
     "output_type": "execute_result"
    }
   ],
   "source": [
    "# Data type\n",
    "\n",
    "df.dtypes\n"
   ]
  },
  {
   "cell_type": "markdown",
   "metadata": {
    "id": "QQKXHLAbKU-u"
   },
   "source": [
    "`Data type:`\n",
    "\n",
    "3 objects = [variety, area, sex]\\\n",
    "4 numericals = [dimension_1_mm, dimension_2_mm, dimension_3_mm, mass_g]\n"
   ]
  },
  {
   "cell_type": "markdown",
   "metadata": {
    "id": "VCpU5IEZNREL"
   },
   "source": [
    "### Duplicates and Missing Data"
   ]
  },
  {
   "cell_type": "code",
   "execution_count": 6,
   "metadata": {
    "colab": {
     "base_uri": "https://localhost:8080/"
    },
    "id": "vS5i6xjqK__K",
    "outputId": "60f01590-9435-4cbf-f76e-90244fc59940"
   },
   "outputs": [
    {
     "data": {
      "text/plain": [
       "0"
      ]
     },
     "execution_count": 6,
     "metadata": {},
     "output_type": "execute_result"
    }
   ],
   "source": [
    "#checking for duplicates\n",
    "\n",
    "df.duplicated().sum()"
   ]
  },
  {
   "cell_type": "code",
   "execution_count": 7,
   "metadata": {
    "colab": {
     "base_uri": "https://localhost:8080/"
    },
    "id": "y5SSpslVJSFQ",
    "outputId": "142b42ab-72ad-402c-bc31-7bfe6cd907d9"
   },
   "outputs": [
    {
     "data": {
      "text/plain": [
       "variety            0\n",
       "area               0\n",
       "dimension_1_mm     2\n",
       "dimension_2_mm     2\n",
       "dimension_3_mm     2\n",
       "mass_g             2\n",
       "sex               10\n",
       "dtype: int64"
      ]
     },
     "execution_count": 7,
     "metadata": {},
     "output_type": "execute_result"
    }
   ],
   "source": [
    "# missing values\n",
    "df.isnull().sum()"
   ]
  },
  {
   "cell_type": "markdown",
   "metadata": {
    "id": "81Jda_TGIvuW"
   },
   "source": [
    "## 3. Preprocessing"
   ]
  },
  {
   "cell_type": "markdown",
   "metadata": {
    "id": "0mCd52xqN8MP"
   },
   "source": [
    "### Replacing missing values\n",
    "\n",
    "From our EDA:\n",
    "\n",
    "1. We have learnt that there are no duplicates.\n",
    "\n",
    "2. The are however missing values. I will replace the missing numerical values with their mean values. However, the sex is not easy to be determined, hence I will drop any missing values from the sex column."
   ]
  },
  {
   "cell_type": "code",
   "execution_count": 8,
   "metadata": {
    "colab": {
     "base_uri": "https://localhost:8080/"
    },
    "id": "PSQ_78JwN7BC",
    "outputId": "e6ad5703-6885-4b81-bd00-c0d88fee61f2"
   },
   "outputs": [
    {
     "data": {
      "text/plain": [
       "(334, 7)"
      ]
     },
     "execution_count": 8,
     "metadata": {},
     "output_type": "execute_result"
    }
   ],
   "source": [
    "# dropping missing value from the sex column\n",
    "\n",
    "df = df.dropna(subset=['sex'])\n",
    "df.shape"
   ]
  },
  {
   "cell_type": "markdown",
   "metadata": {
    "id": "e4L4tx5eU7Iz"
   },
   "source": [
    "- Replacing the numerical missing values with their average \n",
    "\n",
    "- Calculating the mean value:\\\n",
    "\n",
    "- Mean_value => $df.mean()$\n",
    "- Round_decimal => $round(1)$"
   ]
  },
  {
   "cell_type": "code",
   "execution_count": 9,
   "metadata": {
    "id": "A_K-qzgoIkki"
   },
   "outputs": [],
   "source": [
    "#dimension_1_mm\n",
    "dimension_1_mm = df['dimension_1_mm'].fillna(round(df['dimension_1_mm'].mean(), 1), inplace=True)"
   ]
  },
  {
   "cell_type": "code",
   "execution_count": 10,
   "metadata": {
    "id": "z-yKdjaUVh1u"
   },
   "outputs": [],
   "source": [
    "#dimension_2_mm\n",
    "dimension_2_mm = df['dimension_2_mm'].fillna(round(df['dimension_2_mm'].mean(), 1), inplace=True)"
   ]
  },
  {
   "cell_type": "code",
   "execution_count": 11,
   "metadata": {
    "id": "TQv8kZBZVjJW"
   },
   "outputs": [],
   "source": [
    "#dimension_3_mm\n",
    "\n",
    "dimension_3_mm = df['dimension_3_mm'].fillna(round(df['dimension_3_mm'].mean(), 1), inplace=True)"
   ]
  },
  {
   "cell_type": "code",
   "execution_count": 12,
   "metadata": {
    "id": "Hg1abFArXU8y"
   },
   "outputs": [],
   "source": [
    "# mass_g\n",
    "\n",
    "mass_g = df['mass_g'].fillna(round(df['mass_g'].mean(), 1), inplace=True)"
   ]
  },
  {
   "cell_type": "code",
   "execution_count": 13,
   "metadata": {
    "colab": {
     "base_uri": "https://localhost:8080/"
    },
    "id": "99LFtye7Sltg",
    "outputId": "bffcfdcf-aed7-4d0e-f8d9-10a8d2a6f36d"
   },
   "outputs": [
    {
     "name": "stdout",
     "output_type": "stream",
     "text": [
      "<class 'pandas.core.frame.DataFrame'>\n",
      "Int64Index: 334 entries, 0 to 343\n",
      "Data columns (total 7 columns):\n",
      " #   Column          Non-Null Count  Dtype  \n",
      "---  ------          --------------  -----  \n",
      " 0   variety         334 non-null    object \n",
      " 1   area            334 non-null    object \n",
      " 2   dimension_1_mm  334 non-null    float64\n",
      " 3   dimension_2_mm  334 non-null    float64\n",
      " 4   dimension_3_mm  334 non-null    float64\n",
      " 5   mass_g          334 non-null    float64\n",
      " 6   sex             334 non-null    object \n",
      "dtypes: float64(4), object(3)\n",
      "memory usage: 20.9+ KB\n"
     ]
    }
   ],
   "source": [
    "# New Data info()\n",
    "\n",
    "df.info()"
   ]
  },
  {
   "cell_type": "code",
   "execution_count": 14,
   "metadata": {
    "colab": {
     "base_uri": "https://localhost:8080/",
     "height": 235
    },
    "id": "D6GZ-MCYUM1u",
    "outputId": "9a03b5ce-783e-4231-d3e6-fcaaf10c63c1"
   },
   "outputs": [
    {
     "data": {
      "text/html": [
       "<div>\n",
       "<style scoped>\n",
       "    .dataframe tbody tr th:only-of-type {\n",
       "        vertical-align: middle;\n",
       "    }\n",
       "\n",
       "    .dataframe tbody tr th {\n",
       "        vertical-align: top;\n",
       "    }\n",
       "\n",
       "    .dataframe thead tr th {\n",
       "        text-align: left;\n",
       "    }\n",
       "\n",
       "    .dataframe thead tr:last-of-type th {\n",
       "        text-align: right;\n",
       "    }\n",
       "</style>\n",
       "<table border=\"1\" class=\"dataframe\">\n",
       "  <thead>\n",
       "    <tr>\n",
       "      <th></th>\n",
       "      <th colspan=\"8\" halign=\"left\">dimension_1_mm</th>\n",
       "      <th colspan=\"2\" halign=\"left\">dimension_2_mm</th>\n",
       "      <th>...</th>\n",
       "      <th colspan=\"2\" halign=\"left\">dimension_3_mm</th>\n",
       "      <th colspan=\"8\" halign=\"left\">mass_g</th>\n",
       "    </tr>\n",
       "    <tr>\n",
       "      <th></th>\n",
       "      <th>count</th>\n",
       "      <th>mean</th>\n",
       "      <th>std</th>\n",
       "      <th>min</th>\n",
       "      <th>25%</th>\n",
       "      <th>50%</th>\n",
       "      <th>75%</th>\n",
       "      <th>max</th>\n",
       "      <th>count</th>\n",
       "      <th>mean</th>\n",
       "      <th>...</th>\n",
       "      <th>75%</th>\n",
       "      <th>max</th>\n",
       "      <th>count</th>\n",
       "      <th>mean</th>\n",
       "      <th>std</th>\n",
       "      <th>min</th>\n",
       "      <th>25%</th>\n",
       "      <th>50%</th>\n",
       "      <th>75%</th>\n",
       "      <th>max</th>\n",
       "    </tr>\n",
       "    <tr>\n",
       "      <th>sex</th>\n",
       "      <th></th>\n",
       "      <th></th>\n",
       "      <th></th>\n",
       "      <th></th>\n",
       "      <th></th>\n",
       "      <th></th>\n",
       "      <th></th>\n",
       "      <th></th>\n",
       "      <th></th>\n",
       "      <th></th>\n",
       "      <th></th>\n",
       "      <th></th>\n",
       "      <th></th>\n",
       "      <th></th>\n",
       "      <th></th>\n",
       "      <th></th>\n",
       "      <th></th>\n",
       "      <th></th>\n",
       "      <th></th>\n",
       "      <th></th>\n",
       "      <th></th>\n",
       "    </tr>\n",
       "  </thead>\n",
       "  <tbody>\n",
       "    <tr>\n",
       "      <th>.</th>\n",
       "      <td>1.0</td>\n",
       "      <td>44.50</td>\n",
       "      <td>NaN</td>\n",
       "      <td>44.5</td>\n",
       "      <td>44.50</td>\n",
       "      <td>44.5</td>\n",
       "      <td>44.50</td>\n",
       "      <td>44.5</td>\n",
       "      <td>1.0</td>\n",
       "      <td>15.70</td>\n",
       "      <td>...</td>\n",
       "      <td>217.0</td>\n",
       "      <td>217.0</td>\n",
       "      <td>1.0</td>\n",
       "      <td>4875.00</td>\n",
       "      <td>NaN</td>\n",
       "      <td>4875.0</td>\n",
       "      <td>4875.0</td>\n",
       "      <td>4875.0</td>\n",
       "      <td>4875.0</td>\n",
       "      <td>4875.0</td>\n",
       "    </tr>\n",
       "    <tr>\n",
       "      <th>FEMALE</th>\n",
       "      <td>165.0</td>\n",
       "      <td>42.10</td>\n",
       "      <td>4.90</td>\n",
       "      <td>32.1</td>\n",
       "      <td>37.60</td>\n",
       "      <td>42.8</td>\n",
       "      <td>46.20</td>\n",
       "      <td>58.0</td>\n",
       "      <td>165.0</td>\n",
       "      <td>16.43</td>\n",
       "      <td>...</td>\n",
       "      <td>210.0</td>\n",
       "      <td>222.0</td>\n",
       "      <td>165.0</td>\n",
       "      <td>3862.27</td>\n",
       "      <td>666.17</td>\n",
       "      <td>2700.0</td>\n",
       "      <td>3350.0</td>\n",
       "      <td>3650.0</td>\n",
       "      <td>4550.0</td>\n",
       "      <td>5200.0</td>\n",
       "    </tr>\n",
       "    <tr>\n",
       "      <th>MALE</th>\n",
       "      <td>168.0</td>\n",
       "      <td>45.85</td>\n",
       "      <td>5.37</td>\n",
       "      <td>34.6</td>\n",
       "      <td>40.98</td>\n",
       "      <td>46.8</td>\n",
       "      <td>50.32</td>\n",
       "      <td>59.6</td>\n",
       "      <td>168.0</td>\n",
       "      <td>17.89</td>\n",
       "      <td>...</td>\n",
       "      <td>219.0</td>\n",
       "      <td>231.0</td>\n",
       "      <td>168.0</td>\n",
       "      <td>4545.68</td>\n",
       "      <td>787.63</td>\n",
       "      <td>3250.0</td>\n",
       "      <td>3900.0</td>\n",
       "      <td>4300.0</td>\n",
       "      <td>5312.5</td>\n",
       "      <td>6300.0</td>\n",
       "    </tr>\n",
       "  </tbody>\n",
       "</table>\n",
       "<p>3 rows × 32 columns</p>\n",
       "</div>"
      ],
      "text/plain": [
       "       dimension_1_mm                                               \\\n",
       "                count   mean   std   min    25%   50%    75%   max   \n",
       "sex                                                                  \n",
       ".                 1.0  44.50   NaN  44.5  44.50  44.5  44.50  44.5   \n",
       "FEMALE          165.0  42.10  4.90  32.1  37.60  42.8  46.20  58.0   \n",
       "MALE            168.0  45.85  5.37  34.6  40.98  46.8  50.32  59.6   \n",
       "\n",
       "       dimension_2_mm         ... dimension_3_mm        mass_g           \\\n",
       "                count   mean  ...            75%    max  count     mean   \n",
       "sex                           ...                                         \n",
       ".                 1.0  15.70  ...          217.0  217.0    1.0  4875.00   \n",
       "FEMALE          165.0  16.43  ...          210.0  222.0  165.0  3862.27   \n",
       "MALE            168.0  17.89  ...          219.0  231.0  168.0  4545.68   \n",
       "\n",
       "                                                        \n",
       "           std     min     25%     50%     75%     max  \n",
       "sex                                                     \n",
       ".          NaN  4875.0  4875.0  4875.0  4875.0  4875.0  \n",
       "FEMALE  666.17  2700.0  3350.0  3650.0  4550.0  5200.0  \n",
       "MALE    787.63  3250.0  3900.0  4300.0  5312.5  6300.0  \n",
       "\n",
       "[3 rows x 32 columns]"
      ]
     },
     "execution_count": 14,
     "metadata": {},
     "output_type": "execute_result"
    }
   ],
   "source": [
    "#Data Description\n",
    "\n",
    "df.groupby('sex').describe().round(2)"
   ]
  },
  {
   "cell_type": "markdown",
   "metadata": {
    "id": "eRCdegXcW0ou"
   },
   "source": [
    "### Data Visualization"
   ]
  },
  {
   "cell_type": "code",
   "execution_count": 15,
   "metadata": {
    "colab": {
     "base_uri": "https://localhost:8080/",
     "height": 495
    },
    "id": "T0efJvtRWu6w",
    "outputId": "7f855fdb-c400-42f3-b6ca-51029a56999a"
   },
   "outputs": [
    {
     "data": {
      "text/plain": [
       "array([[<AxesSubplot:title={'center':'.'}>,\n",
       "        <AxesSubplot:title={'center':'FEMALE'}>],\n",
       "       [<AxesSubplot:title={'center':'MALE'}>, <AxesSubplot:>]],\n",
       "      dtype=object)"
      ]
     },
     "execution_count": 15,
     "metadata": {},
     "output_type": "execute_result"
    },
    {
     "data": {
      "image/png": "[encoded data removed]",
      "text/plain": [
       "<Figure size 1296x432 with 4 Axes>"
      ]
     },
     "metadata": {},
     "output_type": "display_data"
    }
   ],
   "source": [
    "# Histogram\n",
    "\n",
    "#Histogram plot\n",
    "\n",
    "sns.set_style(\"darkgrid\")\n",
    "sns.set(rc = {'figure.figsize' : (18,6)})\n",
    "df.hist(column = 'mass_g', by = 'sex', bins = 70, edgecolor = 'k')"
   ]
  },
  {
   "cell_type": "code",
   "execution_count": 16,
   "metadata": {
    "colab": {
     "base_uri": "https://localhost:8080/",
     "height": 427
    },
    "id": "dS2rCxwbXTEO",
    "outputId": "f369b188-54a1-4226-fa5c-4f9b02c1f867"
   },
   "outputs": [
    {
     "data": {
      "text/plain": [
       "Text(0.5, 1.0, 'Mass of different varieties of Dolphin')"
      ]
     },
     "execution_count": 16,
     "metadata": {},
     "output_type": "execute_result"
    },
    {
     "data": {
      "image/png": "[encoded data removed]",
      "text/plain": [
       "<Figure size 1296x432 with 1 Axes>"
      ]
     },
     "metadata": {},
     "output_type": "display_data"
    }
   ],
   "source": [
    "# Mean distribution graphic visualiation, violin plot\n",
    "\n",
    "#Mean distribution grapgh, violin plot\n",
    "\n",
    "ax = sns.violinplot(x =df['mass_g'], y =df['variety'], data=df, inner=None, color=\".8\")\n",
    "\n",
    "ax = sns.stripplot(x =df['mass_g'], y =df['variety'], data=df)\n",
    "\n",
    "ax.set_title('Mass of different varieties of Dolphin')"
   ]
  },
  {
   "cell_type": "markdown",
   "metadata": {
    "id": "efWJDMBcbjQj"
   },
   "source": [
    "Synthesis:\n",
    "\n",
    "Looking at the three varieties, \n",
    "\n",
    "- Peale: have more body mass compared to the other two other varieties, Chinesis and Tropicals. Their body mass ranges between 4000 to 7000 g, with main value"
   ]
  },
  {
   "cell_type": "code",
   "execution_count": 17,
   "metadata": {
    "colab": {
     "base_uri": "https://localhost:8080/",
     "height": 398
    },
    "id": "XoArJtJ7Y1VI",
    "outputId": "42ed437d-fba1-4ec3-cd82-7f5066dc402e"
   },
   "outputs": [
    {
     "data": {
      "text/plain": [
       "<AxesSubplot:>"
      ]
     },
     "execution_count": 17,
     "metadata": {},
     "output_type": "execute_result"
    },
    {
     "data": {
      "image/png": "[encoded data removed]",
      "text/plain": [
       "<Figure size 1296x432 with 2 Axes>"
      ]
     },
     "metadata": {},
     "output_type": "display_data"
    }
   ],
   "source": [
    "# Data correlation diagram\n",
    "\n",
    "sns.heatmap(df.corr(), annot=True, linewidths=0.8)"
   ]
  },
  {
   "cell_type": "markdown",
   "metadata": {
    "id": "D9bbN0HKbPF8"
   },
   "source": [
    "## Data preparation, data transformation and model training"
   ]
  },
  {
   "cell_type": "code",
   "execution_count": 18,
   "metadata": {
    "id": "mBC-_Oq1fg4B"
   },
   "outputs": [],
   "source": [
    "# Libraries\n",
    "\n",
    "# for encoding and transforming\n",
    "from sklearn import preprocessing\n",
    "from sklearn.preprocessing import OneHotEncoder, LabelEncoder\n",
    "from sklearn.preprocessing import MaxAbsScaler\n",
    "from sklearn.dummy import DummyClassifier\n",
    "\n",
    "#pipeline\n",
    "from sklearn.pipeline import Pipeline \n",
    "from sklearn.compose import ColumnTransformer, make_column_transformer\n",
    "\n",
    "#Grid Search\n",
    "from sklearn.model_selection import train_test_split,GridSearchCV \n",
    "\n",
    "\n",
    "#model\n",
    "from sklearn.ensemble import RandomForestClassifier \n",
    "\n",
    "#Model evaluation\n",
    "\n",
    "from numpy import absolute\n",
    "from sklearn.model_selection import cross_val_score\n",
    "from sklearn.metrics import accuracy_score\n",
    "from sklearn.metrics import classification_report, confusion_matrix, accuracy_score"
   ]
  },
  {
   "cell_type": "markdown",
   "metadata": {
    "id": "MJHor8Cmic5u"
   },
   "source": [
    "### Data Initiation - splitting data"
   ]
  },
  {
   "cell_type": "code",
   "execution_count": 19,
   "metadata": {},
   "outputs": [
    {
     "data": {
      "text/plain": [
       "(334, 6)"
      ]
     },
     "execution_count": 19,
     "metadata": {},
     "output_type": "execute_result"
    }
   ],
   "source": [
    "X = df[['variety', 'area', 'dimension_1_mm', 'dimension_2_mm', 'dimension_3_mm', 'mass_g']]\n",
    "X.shape"
   ]
  },
  {
   "cell_type": "code",
   "execution_count": 20,
   "metadata": {},
   "outputs": [],
   "source": [
    "y = df['sex']"
   ]
  },
  {
   "cell_type": "code",
   "execution_count": 21,
   "metadata": {},
   "outputs": [],
   "source": [
    "#Transformation\n",
    "\n",
    "numerical_ix = X.select_dtypes(include=['int64', 'float64']).columns, #numericals as 'num'\n",
    "\n",
    "categorical_ix = X.select_dtypes(include=['object', 'bool']).columns #categories as 'cat'"
   ]
  },
  {
   "cell_type": "markdown",
   "metadata": {
    "id": "qo0vgytUgc97"
   },
   "source": [
    "### Encoding and Transforming\n",
    "\n",
    "- Encoding is done for 2 reasons:\n",
    " 1. To encode the string value to a numerical data type. For this, One Hot Encoder is applied\n",
    " 2. To scale the numeric values to values between 0 and 1. To accomplish this, Robust Scaler is applied. "
   ]
  },
  {
   "cell_type": "code",
   "execution_count": 22,
   "metadata": {
    "id": "mSxp5QamhRum"
   },
   "outputs": [],
   "source": [
    "#Encoding for object data type\n",
    "\n",
    "ohe = OneHotEncoder(handle_unknown = 'ignore')\n",
    "scaler = MaxAbsScaler()"
   ]
  },
  {
   "cell_type": "markdown",
   "metadata": {},
   "source": [
    "### Model"
   ]
  },
  {
   "cell_type": "code",
   "execution_count": 23,
   "metadata": {},
   "outputs": [],
   "source": [
    "#Model => Random Forest Classifier, rfc\n",
    "\n",
    "rfc = RandomForestClassifier(random_state = 42)"
   ]
  },
  {
   "cell_type": "markdown",
   "metadata": {},
   "source": [
    "### Model Parameters"
   ]
  },
  {
   "cell_type": "code",
   "execution_count": 24,
   "metadata": {},
   "outputs": [
    {
     "name": "stdout",
     "output_type": "stream",
     "text": [
      "{'n_estimators': [50, 300], 'max_features': ['auto', 'sqrt', 'log2'], 'max_depth': [4, 8], 'criterion': ['gini', 'entropy']}\n"
     ]
    }
   ],
   "source": [
    "# Parameters for Random Forest Classifier, rfc\n",
    "\n",
    "param_grid = { \n",
    "    'n_estimators': [50,300],\n",
    "    'max_features': ['auto', 'sqrt','log2'],\n",
    "    'max_depth' : [4,8],\n",
    "    'criterion' :['gini', 'entropy']}\n",
    "print(param_grid)"
   ]
  },
  {
   "cell_type": "markdown",
   "metadata": {},
   "source": [
    "### Grid search"
   ]
  },
  {
   "cell_type": "code",
   "execution_count": 25,
   "metadata": {},
   "outputs": [],
   "source": [
    "# Grid search for rfc model\n",
    "\n",
    "rfc_Grid = GridSearchCV(estimator = rfc, param_grid = param_grid, cv = 10, n_jobs=-1, verbose=1)"
   ]
  },
  {
   "cell_type": "markdown",
   "metadata": {},
   "source": [
    "### Preparation for Column Transformation "
   ]
  },
  {
   "cell_type": "code",
   "execution_count": 26,
   "metadata": {},
   "outputs": [],
   "source": [
    "# define the data preparation for the columns\n",
    "\n",
    "col = [('cat', ohe, categorical_ix), ('num', scaler, numerical_ix)]\n",
    "\n",
    "col_transform = ColumnTransformer(transformers = col, remainder='passthrough')"
   ]
  },
  {
   "cell_type": "markdown",
   "metadata": {},
   "source": [
    "### Pipeline creation"
   ]
  },
  {
   "cell_type": "code",
   "execution_count": 27,
   "metadata": {},
   "outputs": [],
   "source": [
    "#pipeline\n",
    "\n",
    "pipe = Pipeline(steps=[('prep',col_transform), ('m', rfc_Grid)])"
   ]
  },
  {
   "cell_type": "code",
   "execution_count": 28,
   "metadata": {},
   "outputs": [
    {
     "data": {
      "text/html": [
       "<style>div.sk-top-container {color: black;background-color: white;}div.sk-toggleable {background-color: white;}label.sk-toggleable__label {cursor: pointer;display: block;width: 100%;margin-bottom: 0;padding: 0.2em 0.3em;box-sizing: border-box;text-align: center;}div.sk-toggleable__content {max-height: 0;max-width: 0;overflow: hidden;text-align: left;background-color: #f0f8ff;}div.sk-toggleable__content pre {margin: 0.2em;color: black;border-radius: 0.25em;background-color: #f0f8ff;}input.sk-toggleable__control:checked~div.sk-toggleable__content {max-height: 200px;max-width: 100%;overflow: auto;}div.sk-estimator input.sk-toggleable__control:checked~label.sk-toggleable__label {background-color: #d4ebff;}div.sk-label input.sk-toggleable__control:checked~label.sk-toggleable__label {background-color: #d4ebff;}input.sk-hidden--visually {border: 0;clip: rect(1px 1px 1px 1px);clip: rect(1px, 1px, 1px, 1px);height: 1px;margin: -1px;overflow: hidden;padding: 0;position: absolute;width: 1px;}div.sk-estimator {font-family: monospace;background-color: #f0f8ff;margin: 0.25em 0.25em;border: 1px dotted black;border-radius: 0.25em;box-sizing: border-box;}div.sk-estimator:hover {background-color: #d4ebff;}div.sk-parallel-item::after {content: \"\";width: 100%;border-bottom: 1px solid gray;flex-grow: 1;}div.sk-label:hover label.sk-toggleable__label {background-color: #d4ebff;}div.sk-serial::before {content: \"\";position: absolute;border-left: 1px solid gray;box-sizing: border-box;top: 2em;bottom: 0;left: 50%;}div.sk-serial {display: flex;flex-direction: column;align-items: center;background-color: white;}div.sk-item {z-index: 1;}div.sk-parallel {display: flex;align-items: stretch;justify-content: center;background-color: white;}div.sk-parallel-item {display: flex;flex-direction: column;position: relative;background-color: white;}div.sk-parallel-item:first-child::after {align-self: flex-end;width: 50%;}div.sk-parallel-item:last-child::after {align-self: flex-start;width: 50%;}div.sk-parallel-item:only-child::after {width: 0;}div.sk-dashed-wrapped {border: 1px dashed gray;margin: 0.2em;box-sizing: border-box;padding-bottom: 0.1em;background-color: white;position: relative;}div.sk-label label {font-family: monospace;font-weight: bold;background-color: white;display: inline-block;line-height: 1.2em;}div.sk-label-container {position: relative;z-index: 2;text-align: center;}div.sk-container {display: inline-block;position: relative;}</style><div class=\"sk-top-container\"><div class=\"sk-container\"><div class=\"sk-item sk-dashed-wrapped\"><div class=\"sk-label-container\"><div class=\"sk-label sk-toggleable\"><input class=\"sk-toggleable__control sk-hidden--visually\" id=\"a47f9668-3d31-4cf6-9bd6-430a24c0f422\" type=\"checkbox\" ><label class=\"sk-toggleable__label\" for=\"a47f9668-3d31-4cf6-9bd6-430a24c0f422\">Pipeline</label><div class=\"sk-toggleable__content\"><pre>Pipeline(steps=[('prep',\n",
       "                 ColumnTransformer(remainder='passthrough',\n",
       "                                   transformers=[('cat',\n",
       "                                                  OneHotEncoder(handle_unknown='ignore'),\n",
       "                                                  Index(['variety', 'area'], dtype='object')),\n",
       "                                                 ('num', MaxAbsScaler(),\n",
       "                                                  (Index(['dimension_1_mm', 'dimension_2_mm', 'dimension_3_mm', 'mass_g'], dtype='object'),))])),\n",
       "                ('m',\n",
       "                 GridSearchCV(cv=10,\n",
       "                              estimator=RandomForestClassifier(random_state=42),\n",
       "                              n_jobs=-1,\n",
       "                              param_grid={'criterion': ['gini', 'entropy'],\n",
       "                                          'max_depth': [4, 8],\n",
       "                                          'max_features': ['auto', 'sqrt',\n",
       "                                                           'log2'],\n",
       "                                          'n_estimators': [50, 300]},\n",
       "                              verbose=1))])</pre></div></div></div><div class=\"sk-serial\"><div class=\"sk-item sk-dashed-wrapped\"><div class=\"sk-label-container\"><div class=\"sk-label sk-toggleable\"><input class=\"sk-toggleable__control sk-hidden--visually\" id=\"843995e6-849a-4f8a-8f67-4245749b879b\" type=\"checkbox\" ><label class=\"sk-toggleable__label\" for=\"843995e6-849a-4f8a-8f67-4245749b879b\">prep: ColumnTransformer</label><div class=\"sk-toggleable__content\"><pre>ColumnTransformer(remainder='passthrough',\n",
       "                  transformers=[('cat', OneHotEncoder(handle_unknown='ignore'),\n",
       "                                 Index(['variety', 'area'], dtype='object')),\n",
       "                                ('num', MaxAbsScaler(),\n",
       "                                 (Index(['dimension_1_mm', 'dimension_2_mm', 'dimension_3_mm', 'mass_g'], dtype='object'),))])</pre></div></div></div><div class=\"sk-parallel\"><div class=\"sk-parallel-item\"><div class=\"sk-item\"><div class=\"sk-label-container\"><div class=\"sk-label sk-toggleable\"><input class=\"sk-toggleable__control sk-hidden--visually\" id=\"95798b1f-5bd8-4d1e-8061-a27c779ad40e\" type=\"checkbox\" ><label class=\"sk-toggleable__label\" for=\"95798b1f-5bd8-4d1e-8061-a27c779ad40e\">cat</label><div class=\"sk-toggleable__content\"><pre>Index(['variety', 'area'], dtype='object')</pre></div></div></div><div class=\"sk-serial\"><div class=\"sk-item\"><div class=\"sk-estimator sk-toggleable\"><input class=\"sk-toggleable__control sk-hidden--visually\" id=\"10ffc15f-ac59-4644-a3f6-5342d4b09b6a\" type=\"checkbox\" ><label class=\"sk-toggleable__label\" for=\"10ffc15f-ac59-4644-a3f6-5342d4b09b6a\">OneHotEncoder</label><div class=\"sk-toggleable__content\"><pre>OneHotEncoder(handle_unknown='ignore')</pre></div></div></div></div></div></div><div class=\"sk-parallel-item\"><div class=\"sk-item\"><div class=\"sk-label-container\"><div class=\"sk-label sk-toggleable\"><input class=\"sk-toggleable__control sk-hidden--visually\" id=\"bb533122-0524-4a77-bf86-f843bb7bb709\" type=\"checkbox\" ><label class=\"sk-toggleable__label\" for=\"bb533122-0524-4a77-bf86-f843bb7bb709\">num</label><div class=\"sk-toggleable__content\"><pre>(Index(['dimension_1_mm', 'dimension_2_mm', 'dimension_3_mm', 'mass_g'], dtype='object'),)</pre></div></div></div><div class=\"sk-serial\"><div class=\"sk-item\"><div class=\"sk-estimator sk-toggleable\"><input class=\"sk-toggleable__control sk-hidden--visually\" id=\"7ea0001d-08f0-4bec-885a-de06f3be9f0c\" type=\"checkbox\" ><label class=\"sk-toggleable__label\" for=\"7ea0001d-08f0-4bec-885a-de06f3be9f0c\">MaxAbsScaler</label><div class=\"sk-toggleable__content\"><pre>MaxAbsScaler()</pre></div></div></div></div></div></div></div></div><div class=\"sk-item sk-dashed-wrapped\"><div class=\"sk-label-container\"><div class=\"sk-label sk-toggleable\"><input class=\"sk-toggleable__control sk-hidden--visually\" id=\"afd4273e-fdb0-48ba-a359-aef9bf121b2e\" type=\"checkbox\" ><label class=\"sk-toggleable__label\" for=\"afd4273e-fdb0-48ba-a359-aef9bf121b2e\">m: GridSearchCV</label><div class=\"sk-toggleable__content\"><pre>GridSearchCV(cv=10, estimator=RandomForestClassifier(random_state=42),\n",
       "             n_jobs=-1,\n",
       "             param_grid={'criterion': ['gini', 'entropy'], 'max_depth': [4, 8],\n",
       "                         'max_features': ['auto', 'sqrt', 'log2'],\n",
       "                         'n_estimators': [50, 300]},\n",
       "             verbose=1)</pre></div></div></div><div class=\"sk-parallel\"><div class=\"sk-parallel-item\"><div class=\"sk-item\"><div class=\"sk-serial\"><div class=\"sk-item\"><div class=\"sk-estimator sk-toggleable\"><input class=\"sk-toggleable__control sk-hidden--visually\" id=\"43451d67-93e6-4577-a016-b58294d6e790\" type=\"checkbox\" ><label class=\"sk-toggleable__label\" for=\"43451d67-93e6-4577-a016-b58294d6e790\">RandomForestClassifier</label><div class=\"sk-toggleable__content\"><pre>RandomForestClassifier(random_state=42)</pre></div></div></div></div></div></div></div></div></div></div></div></div>"
      ],
      "text/plain": [
       "Pipeline(steps=[('prep',\n",
       "                 ColumnTransformer(remainder='passthrough',\n",
       "                                   transformers=[('cat',\n",
       "                                                  OneHotEncoder(handle_unknown='ignore'),\n",
       "                                                  Index(['variety', 'area'], dtype='object')),\n",
       "                                                 ('num', MaxAbsScaler(),\n",
       "                                                  (Index(['dimension_1_mm', 'dimension_2_mm', 'dimension_3_mm', 'mass_g'], dtype='object'),))])),\n",
       "                ('m',\n",
       "                 GridSearchCV(cv=10,\n",
       "                              estimator=RandomForestClassifier(random_state=42),\n",
       "                              n_jobs=-1,\n",
       "                              param_grid={'criterion': ['gini', 'entropy'],\n",
       "                                          'max_depth': [4, 8],\n",
       "                                          'max_features': ['auto', 'sqrt',\n",
       "                                                           'log2'],\n",
       "                                          'n_estimators': [50, 300]},\n",
       "                              verbose=1))])"
      ]
     },
     "execution_count": 28,
     "metadata": {},
     "output_type": "execute_result"
    }
   ],
   "source": [
    "#pipe line diagram\n",
    "\n",
    "from sklearn import set_config\n",
    "\n",
    "set_config(display='diagram')\n",
    "pipe"
   ]
  },
  {
   "cell_type": "markdown",
   "metadata": {},
   "source": [
    "###  Column transformation"
   ]
  },
  {
   "cell_type": "markdown",
   "metadata": {},
   "source": [
    "### Encoding and scaling"
   ]
  },
  {
   "cell_type": "code",
   "execution_count": 29,
   "metadata": {},
   "outputs": [
    {
     "data": {
      "text/plain": [
       "Index(['variety', 'area', 'dimension_1_mm', 'dimension_2_mm', 'dimension_3_mm',\n",
       "       'mass_g'],\n",
       "      dtype='object')"
      ]
     },
     "execution_count": 29,
     "metadata": {},
     "output_type": "execute_result"
    }
   ],
   "source": [
    "X.columns"
   ]
  },
  {
   "cell_type": "code",
   "execution_count": 30,
   "metadata": {},
   "outputs": [],
   "source": [
    "#encoding object data type\n",
    "\n",
    "X_2 = X.select_dtypes(include=[object])"
   ]
  },
  {
   "cell_type": "code",
   "execution_count": 31,
   "metadata": {},
   "outputs": [
    {
     "data": {
      "text/html": [
       "<style>div.sk-top-container {color: black;background-color: white;}div.sk-toggleable {background-color: white;}label.sk-toggleable__label {cursor: pointer;display: block;width: 100%;margin-bottom: 0;padding: 0.2em 0.3em;box-sizing: border-box;text-align: center;}div.sk-toggleable__content {max-height: 0;max-width: 0;overflow: hidden;text-align: left;background-color: #f0f8ff;}div.sk-toggleable__content pre {margin: 0.2em;color: black;border-radius: 0.25em;background-color: #f0f8ff;}input.sk-toggleable__control:checked~div.sk-toggleable__content {max-height: 200px;max-width: 100%;overflow: auto;}div.sk-estimator input.sk-toggleable__control:checked~label.sk-toggleable__label {background-color: #d4ebff;}div.sk-label input.sk-toggleable__control:checked~label.sk-toggleable__label {background-color: #d4ebff;}input.sk-hidden--visually {border: 0;clip: rect(1px 1px 1px 1px);clip: rect(1px, 1px, 1px, 1px);height: 1px;margin: -1px;overflow: hidden;padding: 0;position: absolute;width: 1px;}div.sk-estimator {font-family: monospace;background-color: #f0f8ff;margin: 0.25em 0.25em;border: 1px dotted black;border-radius: 0.25em;box-sizing: border-box;}div.sk-estimator:hover {background-color: #d4ebff;}div.sk-parallel-item::after {content: \"\";width: 100%;border-bottom: 1px solid gray;flex-grow: 1;}div.sk-label:hover label.sk-toggleable__label {background-color: #d4ebff;}div.sk-serial::before {content: \"\";position: absolute;border-left: 1px solid gray;box-sizing: border-box;top: 2em;bottom: 0;left: 50%;}div.sk-serial {display: flex;flex-direction: column;align-items: center;background-color: white;}div.sk-item {z-index: 1;}div.sk-parallel {display: flex;align-items: stretch;justify-content: center;background-color: white;}div.sk-parallel-item {display: flex;flex-direction: column;position: relative;background-color: white;}div.sk-parallel-item:first-child::after {align-self: flex-end;width: 50%;}div.sk-parallel-item:last-child::after {align-self: flex-start;width: 50%;}div.sk-parallel-item:only-child::after {width: 0;}div.sk-dashed-wrapped {border: 1px dashed gray;margin: 0.2em;box-sizing: border-box;padding-bottom: 0.1em;background-color: white;position: relative;}div.sk-label label {font-family: monospace;font-weight: bold;background-color: white;display: inline-block;line-height: 1.2em;}div.sk-label-container {position: relative;z-index: 2;text-align: center;}div.sk-container {display: inline-block;position: relative;}</style><div class=\"sk-top-container\"><div class=\"sk-container\"><div class=\"sk-item\"><div class=\"sk-estimator sk-toggleable\"><input class=\"sk-toggleable__control sk-hidden--visually\" id=\"5405229e-42d0-4068-aa74-31e4c3b921cb\" type=\"checkbox\" checked><label class=\"sk-toggleable__label\" for=\"5405229e-42d0-4068-aa74-31e4c3b921cb\">OneHotEncoder</label><div class=\"sk-toggleable__content\"><pre>OneHotEncoder(handle_unknown='ignore')</pre></div></div></div></div></div>"
      ],
      "text/plain": [
       "OneHotEncoder(handle_unknown='ignore')"
      ]
     },
     "execution_count": 31,
     "metadata": {},
     "output_type": "execute_result"
    }
   ],
   "source": [
    "\n",
    "ohe.fit(X_2)"
   ]
  },
  {
   "cell_type": "code",
   "execution_count": 32,
   "metadata": {},
   "outputs": [
    {
     "data": {
      "text/html": [
       "<div>\n",
       "<style scoped>\n",
       "    .dataframe tbody tr th:only-of-type {\n",
       "        vertical-align: middle;\n",
       "    }\n",
       "\n",
       "    .dataframe tbody tr th {\n",
       "        vertical-align: top;\n",
       "    }\n",
       "\n",
       "    .dataframe thead th {\n",
       "        text-align: right;\n",
       "    }\n",
       "</style>\n",
       "<table border=\"1\" class=\"dataframe\">\n",
       "  <thead>\n",
       "    <tr style=\"text-align: right;\">\n",
       "      <th></th>\n",
       "      <th>variety</th>\n",
       "      <th>area</th>\n",
       "    </tr>\n",
       "  </thead>\n",
       "  <tbody>\n",
       "    <tr>\n",
       "      <th>0</th>\n",
       "      <td>2</td>\n",
       "      <td>0</td>\n",
       "    </tr>\n",
       "    <tr>\n",
       "      <th>1</th>\n",
       "      <td>2</td>\n",
       "      <td>0</td>\n",
       "    </tr>\n",
       "    <tr>\n",
       "      <th>2</th>\n",
       "      <td>2</td>\n",
       "      <td>0</td>\n",
       "    </tr>\n",
       "    <tr>\n",
       "      <th>4</th>\n",
       "      <td>2</td>\n",
       "      <td>0</td>\n",
       "    </tr>\n",
       "    <tr>\n",
       "      <th>5</th>\n",
       "      <td>2</td>\n",
       "      <td>0</td>\n",
       "    </tr>\n",
       "  </tbody>\n",
       "</table>\n",
       "</div>"
      ],
      "text/plain": [
       "   variety  area\n",
       "0        2     0\n",
       "1        2     0\n",
       "2        2     0\n",
       "4        2     0\n",
       "5        2     0"
      ]
     },
     "execution_count": 32,
     "metadata": {},
     "output_type": "execute_result"
    }
   ],
   "source": [
    "#Create label encoder\n",
    "\n",
    "le = preprocessing.LabelEncoder()\n",
    "\n",
    "#fit and transform\n",
    "\n",
    "X_2 = X_2.apply(le.fit_transform)\n",
    "X_2.head()"
   ]
  },
  {
   "cell_type": "code",
   "execution_count": 33,
   "metadata": {},
   "outputs": [
    {
     "data": {
      "text/plain": [
       "(334, 6)"
      ]
     },
     "execution_count": 33,
     "metadata": {},
     "output_type": "execute_result"
    }
   ],
   "source": [
    "# Convert to array\n",
    "\n",
    "#Initiate\n",
    "enc = preprocessing.OneHotEncoder()\n",
    "\n",
    "# fit\n",
    "enc.fit(X_2)\n",
    "\n",
    "#Transform\n",
    "\n",
    "X_2 = enc.transform(X_2).toarray()\n",
    "X_2.shape"
   ]
  },
  {
   "cell_type": "code",
   "execution_count": 34,
   "metadata": {},
   "outputs": [
    {
     "data": {
      "text/html": [
       "<div>\n",
       "<style scoped>\n",
       "    .dataframe tbody tr th:only-of-type {\n",
       "        vertical-align: middle;\n",
       "    }\n",
       "\n",
       "    .dataframe tbody tr th {\n",
       "        vertical-align: top;\n",
       "    }\n",
       "\n",
       "    .dataframe thead th {\n",
       "        text-align: right;\n",
       "    }\n",
       "</style>\n",
       "<table border=\"1\" class=\"dataframe\">\n",
       "  <thead>\n",
       "    <tr style=\"text-align: right;\">\n",
       "      <th></th>\n",
       "      <th>dimension_1_mm</th>\n",
       "      <th>dimension_2_mm</th>\n",
       "      <th>dimension_3_mm</th>\n",
       "      <th>mass_g</th>\n",
       "      <th>variety_Chinensis</th>\n",
       "      <th>variety_Peale</th>\n",
       "      <th>variety_Tropicalis</th>\n",
       "      <th>area_Artic</th>\n",
       "      <th>area_Caraibean</th>\n",
       "      <th>area_Pacific</th>\n",
       "    </tr>\n",
       "  </thead>\n",
       "  <tbody>\n",
       "    <tr>\n",
       "      <th>0</th>\n",
       "      <td>39.1</td>\n",
       "      <td>18.7</td>\n",
       "      <td>181.0</td>\n",
       "      <td>3750.0</td>\n",
       "      <td>0</td>\n",
       "      <td>0</td>\n",
       "      <td>1</td>\n",
       "      <td>1</td>\n",
       "      <td>0</td>\n",
       "      <td>0</td>\n",
       "    </tr>\n",
       "    <tr>\n",
       "      <th>1</th>\n",
       "      <td>39.5</td>\n",
       "      <td>17.4</td>\n",
       "      <td>186.0</td>\n",
       "      <td>3800.0</td>\n",
       "      <td>0</td>\n",
       "      <td>0</td>\n",
       "      <td>1</td>\n",
       "      <td>1</td>\n",
       "      <td>0</td>\n",
       "      <td>0</td>\n",
       "    </tr>\n",
       "    <tr>\n",
       "      <th>2</th>\n",
       "      <td>40.3</td>\n",
       "      <td>18.0</td>\n",
       "      <td>195.0</td>\n",
       "      <td>3250.0</td>\n",
       "      <td>0</td>\n",
       "      <td>0</td>\n",
       "      <td>1</td>\n",
       "      <td>1</td>\n",
       "      <td>0</td>\n",
       "      <td>0</td>\n",
       "    </tr>\n",
       "    <tr>\n",
       "      <th>4</th>\n",
       "      <td>36.7</td>\n",
       "      <td>19.3</td>\n",
       "      <td>193.0</td>\n",
       "      <td>3450.0</td>\n",
       "      <td>0</td>\n",
       "      <td>0</td>\n",
       "      <td>1</td>\n",
       "      <td>1</td>\n",
       "      <td>0</td>\n",
       "      <td>0</td>\n",
       "    </tr>\n",
       "    <tr>\n",
       "      <th>5</th>\n",
       "      <td>39.3</td>\n",
       "      <td>20.6</td>\n",
       "      <td>190.0</td>\n",
       "      <td>3650.0</td>\n",
       "      <td>0</td>\n",
       "      <td>0</td>\n",
       "      <td>1</td>\n",
       "      <td>1</td>\n",
       "      <td>0</td>\n",
       "      <td>0</td>\n",
       "    </tr>\n",
       "  </tbody>\n",
       "</table>\n",
       "</div>"
      ],
      "text/plain": [
       "   dimension_1_mm  dimension_2_mm  dimension_3_mm  mass_g  variety_Chinensis  \\\n",
       "0            39.1            18.7           181.0  3750.0                  0   \n",
       "1            39.5            17.4           186.0  3800.0                  0   \n",
       "2            40.3            18.0           195.0  3250.0                  0   \n",
       "4            36.7            19.3           193.0  3450.0                  0   \n",
       "5            39.3            20.6           190.0  3650.0                  0   \n",
       "\n",
       "   variety_Peale  variety_Tropicalis  area_Artic  area_Caraibean  area_Pacific  \n",
       "0              0                   1           1               0             0  \n",
       "1              0                   1           1               0             0  \n",
       "2              0                   1           1               0             0  \n",
       "4              0                   1           1               0             0  \n",
       "5              0                   1           1               0             0  "
      ]
     },
     "execution_count": 34,
     "metadata": {},
     "output_type": "execute_result"
    }
   ],
   "source": [
    "# One-hot encode the data using pandas get_dummies\n",
    "\n",
    "X = pd.get_dummies(X)\n",
    "X.head()"
   ]
  },
  {
   "cell_type": "markdown",
   "metadata": {},
   "source": [
    "### Transforming columns"
   ]
  },
  {
   "cell_type": "code",
   "execution_count": 35,
   "metadata": {},
   "outputs": [
    {
     "data": {
      "text/html": [
       "<style>div.sk-top-container {color: black;background-color: white;}div.sk-toggleable {background-color: white;}label.sk-toggleable__label {cursor: pointer;display: block;width: 100%;margin-bottom: 0;padding: 0.2em 0.3em;box-sizing: border-box;text-align: center;}div.sk-toggleable__content {max-height: 0;max-width: 0;overflow: hidden;text-align: left;background-color: #f0f8ff;}div.sk-toggleable__content pre {margin: 0.2em;color: black;border-radius: 0.25em;background-color: #f0f8ff;}input.sk-toggleable__control:checked~div.sk-toggleable__content {max-height: 200px;max-width: 100%;overflow: auto;}div.sk-estimator input.sk-toggleable__control:checked~label.sk-toggleable__label {background-color: #d4ebff;}div.sk-label input.sk-toggleable__control:checked~label.sk-toggleable__label {background-color: #d4ebff;}input.sk-hidden--visually {border: 0;clip: rect(1px 1px 1px 1px);clip: rect(1px, 1px, 1px, 1px);height: 1px;margin: -1px;overflow: hidden;padding: 0;position: absolute;width: 1px;}div.sk-estimator {font-family: monospace;background-color: #f0f8ff;margin: 0.25em 0.25em;border: 1px dotted black;border-radius: 0.25em;box-sizing: border-box;}div.sk-estimator:hover {background-color: #d4ebff;}div.sk-parallel-item::after {content: \"\";width: 100%;border-bottom: 1px solid gray;flex-grow: 1;}div.sk-label:hover label.sk-toggleable__label {background-color: #d4ebff;}div.sk-serial::before {content: \"\";position: absolute;border-left: 1px solid gray;box-sizing: border-box;top: 2em;bottom: 0;left: 50%;}div.sk-serial {display: flex;flex-direction: column;align-items: center;background-color: white;}div.sk-item {z-index: 1;}div.sk-parallel {display: flex;align-items: stretch;justify-content: center;background-color: white;}div.sk-parallel-item {display: flex;flex-direction: column;position: relative;background-color: white;}div.sk-parallel-item:first-child::after {align-self: flex-end;width: 50%;}div.sk-parallel-item:last-child::after {align-self: flex-start;width: 50%;}div.sk-parallel-item:only-child::after {width: 0;}div.sk-dashed-wrapped {border: 1px dashed gray;margin: 0.2em;box-sizing: border-box;padding-bottom: 0.1em;background-color: white;position: relative;}div.sk-label label {font-family: monospace;font-weight: bold;background-color: white;display: inline-block;line-height: 1.2em;}div.sk-label-container {position: relative;z-index: 2;text-align: center;}div.sk-container {display: inline-block;position: relative;}</style><div class=\"sk-top-container\"><div class=\"sk-container\"><div class=\"sk-item\"><div class=\"sk-estimator sk-toggleable\"><input class=\"sk-toggleable__control sk-hidden--visually\" id=\"8958264b-7ffd-40d3-98d7-026a8e73e3cf\" type=\"checkbox\" checked><label class=\"sk-toggleable__label\" for=\"8958264b-7ffd-40d3-98d7-026a8e73e3cf\">MaxAbsScaler</label><div class=\"sk-toggleable__content\"><pre>MaxAbsScaler()</pre></div></div></div></div></div>"
      ],
      "text/plain": [
       "MaxAbsScaler()"
      ]
     },
     "execution_count": 35,
     "metadata": {},
     "output_type": "execute_result"
    }
   ],
   "source": [
    "#Transforming the numeric values #Scaler, MinMaxscaler\n",
    "\n",
    "scaler.fit(X)"
   ]
  },
  {
   "cell_type": "code",
   "execution_count": 36,
   "metadata": {},
   "outputs": [],
   "source": [
    "X = scaler.transform(X)"
   ]
  },
  {
   "cell_type": "markdown",
   "metadata": {},
   "source": [
    "### Features, $X$"
   ]
  },
  {
   "cell_type": "code",
   "execution_count": 37,
   "metadata": {},
   "outputs": [
    {
     "data": {
      "text/plain": [
       "(334, 10)"
      ]
     },
     "execution_count": 37,
     "metadata": {},
     "output_type": "execute_result"
    }
   ],
   "source": [
    "#Features dataset \n",
    "\n",
    "X.shape"
   ]
  },
  {
   "cell_type": "markdown",
   "metadata": {},
   "source": [
    "### Transforming the features to arraytype"
   ]
  },
  {
   "cell_type": "markdown",
   "metadata": {},
   "source": [
    "### Target, $y$"
   ]
  },
  {
   "cell_type": "code",
   "execution_count": 38,
   "metadata": {},
   "outputs": [],
   "source": [
    "y = df['sex']\n",
    "\n",
    "y = y.apply(lambda x: 1 if 'FEMALE' in x else 0 )"
   ]
  },
  {
   "cell_type": "markdown",
   "metadata": {},
   "source": [
    "### Data Initiation - splitting data"
   ]
  },
  {
   "cell_type": "markdown",
   "metadata": {},
   "source": [
    "### Splitting data - Train-test set"
   ]
  },
  {
   "cell_type": "code",
   "execution_count": 39,
   "metadata": {},
   "outputs": [],
   "source": [
    "# train-test split\n",
    "#features_test_data = 20%(X); target_test_data = 20%(y)\n",
    "\n",
    "X_train, X_test, y_train, y_test = train_test_split(X,y, test_size = 0.25, random_state = 42)"
   ]
  },
  {
   "cell_type": "code",
   "execution_count": 40,
   "metadata": {},
   "outputs": [
    {
     "name": "stdout",
     "output_type": "stream",
     "text": [
      "X_train: (250, 10)\n",
      "X_test: (84, 10)\n",
      "y_train: (250,)\n",
      "X_train: (84,)\n"
     ]
    }
   ],
   "source": [
    "# Train-Test dataset\n",
    "\n",
    "print('X_train:', X_train.shape)\n",
    "print('X_test:', X_test.shape)\n",
    "print('y_train:', y_train.shape)\n",
    "print('X_train:', y_test.shape)\n"
   ]
  },
  {
   "cell_type": "markdown",
   "metadata": {},
   "source": [
    "### Model - random Forest Classification"
   ]
  },
  {
   "cell_type": "code",
   "execution_count": 41,
   "metadata": {},
   "outputs": [
    {
     "name": "stdout",
     "output_type": "stream",
     "text": [
      "Fitting 10 folds for each of 24 candidates, totalling 240 fits\n"
     ]
    },
    {
     "name": "stderr",
     "output_type": "stream",
     "text": [
      "[Parallel(n_jobs=-1)]: Using backend LokyBackend with 4 concurrent workers.\n",
      "[Parallel(n_jobs=-1)]: Done  42 tasks      | elapsed:    5.7s\n",
      "[Parallel(n_jobs=-1)]: Done 192 tasks      | elapsed:   20.3s\n",
      "[Parallel(n_jobs=-1)]: Done 240 out of 240 | elapsed:   25.4s finished\n"
     ]
    },
    {
     "data": {
      "text/html": [
       "<style>div.sk-top-container {color: black;background-color: white;}div.sk-toggleable {background-color: white;}label.sk-toggleable__label {cursor: pointer;display: block;width: 100%;margin-bottom: 0;padding: 0.2em 0.3em;box-sizing: border-box;text-align: center;}div.sk-toggleable__content {max-height: 0;max-width: 0;overflow: hidden;text-align: left;background-color: #f0f8ff;}div.sk-toggleable__content pre {margin: 0.2em;color: black;border-radius: 0.25em;background-color: #f0f8ff;}input.sk-toggleable__control:checked~div.sk-toggleable__content {max-height: 200px;max-width: 100%;overflow: auto;}div.sk-estimator input.sk-toggleable__control:checked~label.sk-toggleable__label {background-color: #d4ebff;}div.sk-label input.sk-toggleable__control:checked~label.sk-toggleable__label {background-color: #d4ebff;}input.sk-hidden--visually {border: 0;clip: rect(1px 1px 1px 1px);clip: rect(1px, 1px, 1px, 1px);height: 1px;margin: -1px;overflow: hidden;padding: 0;position: absolute;width: 1px;}div.sk-estimator {font-family: monospace;background-color: #f0f8ff;margin: 0.25em 0.25em;border: 1px dotted black;border-radius: 0.25em;box-sizing: border-box;}div.sk-estimator:hover {background-color: #d4ebff;}div.sk-parallel-item::after {content: \"\";width: 100%;border-bottom: 1px solid gray;flex-grow: 1;}div.sk-label:hover label.sk-toggleable__label {background-color: #d4ebff;}div.sk-serial::before {content: \"\";position: absolute;border-left: 1px solid gray;box-sizing: border-box;top: 2em;bottom: 0;left: 50%;}div.sk-serial {display: flex;flex-direction: column;align-items: center;background-color: white;}div.sk-item {z-index: 1;}div.sk-parallel {display: flex;align-items: stretch;justify-content: center;background-color: white;}div.sk-parallel-item {display: flex;flex-direction: column;position: relative;background-color: white;}div.sk-parallel-item:first-child::after {align-self: flex-end;width: 50%;}div.sk-parallel-item:last-child::after {align-self: flex-start;width: 50%;}div.sk-parallel-item:only-child::after {width: 0;}div.sk-dashed-wrapped {border: 1px dashed gray;margin: 0.2em;box-sizing: border-box;padding-bottom: 0.1em;background-color: white;position: relative;}div.sk-label label {font-family: monospace;font-weight: bold;background-color: white;display: inline-block;line-height: 1.2em;}div.sk-label-container {position: relative;z-index: 2;text-align: center;}div.sk-container {display: inline-block;position: relative;}</style><div class=\"sk-top-container\"><div class=\"sk-container\"><div class=\"sk-item sk-dashed-wrapped\"><div class=\"sk-label-container\"><div class=\"sk-label sk-toggleable\"><input class=\"sk-toggleable__control sk-hidden--visually\" id=\"953d6be2-3e0b-4678-89a6-eed5453e8a31\" type=\"checkbox\" ><label class=\"sk-toggleable__label\" for=\"953d6be2-3e0b-4678-89a6-eed5453e8a31\">GridSearchCV</label><div class=\"sk-toggleable__content\"><pre>GridSearchCV(cv=10, estimator=RandomForestClassifier(random_state=42),\n",
       "             n_jobs=-1,\n",
       "             param_grid={'criterion': ['gini', 'entropy'], 'max_depth': [4, 8],\n",
       "                         'max_features': ['auto', 'sqrt', 'log2'],\n",
       "                         'n_estimators': [50, 300]},\n",
       "             verbose=1)</pre></div></div></div><div class=\"sk-parallel\"><div class=\"sk-parallel-item\"><div class=\"sk-item\"><div class=\"sk-serial\"><div class=\"sk-item\"><div class=\"sk-estimator sk-toggleable\"><input class=\"sk-toggleable__control sk-hidden--visually\" id=\"a31e5e0f-8d62-4e58-b70f-d29fbdc866c5\" type=\"checkbox\" ><label class=\"sk-toggleable__label\" for=\"a31e5e0f-8d62-4e58-b70f-d29fbdc866c5\">RandomForestClassifier</label><div class=\"sk-toggleable__content\"><pre>RandomForestClassifier(random_state=42)</pre></div></div></div></div></div></div></div></div></div></div>"
      ],
      "text/plain": [
       "GridSearchCV(cv=10, estimator=RandomForestClassifier(random_state=42),\n",
       "             n_jobs=-1,\n",
       "             param_grid={'criterion': ['gini', 'entropy'], 'max_depth': [4, 8],\n",
       "                         'max_features': ['auto', 'sqrt', 'log2'],\n",
       "                         'n_estimators': [50, 300]},\n",
       "             verbose=1)"
      ]
     },
     "execution_count": 41,
     "metadata": {},
     "output_type": "execute_result"
    }
   ],
   "source": [
    "rfc_Grid.fit(X_train, y_train)"
   ]
  },
  {
   "cell_type": "code",
   "execution_count": 42,
   "metadata": {},
   "outputs": [
    {
     "data": {
      "text/plain": [
       "{'criterion': 'gini',\n",
       " 'max_depth': 8,\n",
       " 'max_features': 'auto',\n",
       " 'n_estimators': 50}"
      ]
     },
     "execution_count": 42,
     "metadata": {},
     "output_type": "execute_result"
    }
   ],
   "source": [
    "rfc_Grid.best_params_"
   ]
  },
  {
   "cell_type": "code",
   "execution_count": 43,
   "metadata": {},
   "outputs": [],
   "source": [
    "#Model hyperparameters\n",
    "\n",
    "grid = RandomForestClassifier(random_state=42, max_features='auto', n_estimators= 50,max_depth=8,criterion='gini')"
   ]
  },
  {
   "cell_type": "markdown",
   "metadata": {},
   "source": [
    "### Fit the train dataset to the grid search"
   ]
  },
  {
   "cell_type": "code",
   "execution_count": 44,
   "metadata": {},
   "outputs": [
    {
     "data": {
      "text/html": [
       "<style>div.sk-top-container {color: black;background-color: white;}div.sk-toggleable {background-color: white;}label.sk-toggleable__label {cursor: pointer;display: block;width: 100%;margin-bottom: 0;padding: 0.2em 0.3em;box-sizing: border-box;text-align: center;}div.sk-toggleable__content {max-height: 0;max-width: 0;overflow: hidden;text-align: left;background-color: #f0f8ff;}div.sk-toggleable__content pre {margin: 0.2em;color: black;border-radius: 0.25em;background-color: #f0f8ff;}input.sk-toggleable__control:checked~div.sk-toggleable__content {max-height: 200px;max-width: 100%;overflow: auto;}div.sk-estimator input.sk-toggleable__control:checked~label.sk-toggleable__label {background-color: #d4ebff;}div.sk-label input.sk-toggleable__control:checked~label.sk-toggleable__label {background-color: #d4ebff;}input.sk-hidden--visually {border: 0;clip: rect(1px 1px 1px 1px);clip: rect(1px, 1px, 1px, 1px);height: 1px;margin: -1px;overflow: hidden;padding: 0;position: absolute;width: 1px;}div.sk-estimator {font-family: monospace;background-color: #f0f8ff;margin: 0.25em 0.25em;border: 1px dotted black;border-radius: 0.25em;box-sizing: border-box;}div.sk-estimator:hover {background-color: #d4ebff;}div.sk-parallel-item::after {content: \"\";width: 100%;border-bottom: 1px solid gray;flex-grow: 1;}div.sk-label:hover label.sk-toggleable__label {background-color: #d4ebff;}div.sk-serial::before {content: \"\";position: absolute;border-left: 1px solid gray;box-sizing: border-box;top: 2em;bottom: 0;left: 50%;}div.sk-serial {display: flex;flex-direction: column;align-items: center;background-color: white;}div.sk-item {z-index: 1;}div.sk-parallel {display: flex;align-items: stretch;justify-content: center;background-color: white;}div.sk-parallel-item {display: flex;flex-direction: column;position: relative;background-color: white;}div.sk-parallel-item:first-child::after {align-self: flex-end;width: 50%;}div.sk-parallel-item:last-child::after {align-self: flex-start;width: 50%;}div.sk-parallel-item:only-child::after {width: 0;}div.sk-dashed-wrapped {border: 1px dashed gray;margin: 0.2em;box-sizing: border-box;padding-bottom: 0.1em;background-color: white;position: relative;}div.sk-label label {font-family: monospace;font-weight: bold;background-color: white;display: inline-block;line-height: 1.2em;}div.sk-label-container {position: relative;z-index: 2;text-align: center;}div.sk-container {display: inline-block;position: relative;}</style><div class=\"sk-top-container\"><div class=\"sk-container\"><div class=\"sk-item\"><div class=\"sk-estimator sk-toggleable\"><input class=\"sk-toggleable__control sk-hidden--visually\" id=\"2f4f9c55-e3cd-4000-a408-b69ac5f9e3b3\" type=\"checkbox\" checked><label class=\"sk-toggleable__label\" for=\"2f4f9c55-e3cd-4000-a408-b69ac5f9e3b3\">RandomForestClassifier</label><div class=\"sk-toggleable__content\"><pre>RandomForestClassifier(max_depth=8, n_estimators=50, random_state=42)</pre></div></div></div></div></div>"
      ],
      "text/plain": [
       "RandomForestClassifier(max_depth=8, n_estimators=50, random_state=42)"
      ]
     },
     "execution_count": 44,
     "metadata": {},
     "output_type": "execute_result"
    }
   ],
   "source": [
    "#Fit\n",
    "grid.fit(X_train, y_train)"
   ]
  },
  {
   "cell_type": "markdown",
   "metadata": {},
   "source": [
    "### Matrics Evaluation"
   ]
  },
  {
   "cell_type": "code",
   "execution_count": 45,
   "metadata": {},
   "outputs": [],
   "source": [
    "# evaluate the pipeline using cross validation and calculate MAE\n",
    "\n",
    "scores = cross_val_score(grid, X, y, scoring='neg_mean_absolute_error', cv=5, n_jobs=-1)\n",
    "\n",
    "# convert MAE scores to positive values\n",
    "\n",
    "scores = absolute(scores)\n",
    "# summarize the model performance"
   ]
  },
  {
   "cell_type": "markdown",
   "metadata": {},
   "source": [
    "### Model Evaluation"
   ]
  },
  {
   "cell_type": "code",
   "execution_count": 46,
   "metadata": {},
   "outputs": [
    {
     "data": {
      "text/plain": [
       "0.996"
      ]
     },
     "execution_count": 46,
     "metadata": {},
     "output_type": "execute_result"
    }
   ],
   "source": [
    "model_score = grid.score(X_train, y_train)\n",
    "model_score"
   ]
  },
  {
   "cell_type": "markdown",
   "metadata": {},
   "source": [
    "### Metrics Evaluation"
   ]
  },
  {
   "cell_type": "code",
   "execution_count": 47,
   "metadata": {},
   "outputs": [
    {
     "name": "stdout",
     "output_type": "stream",
     "text": [
      "Accuracy for Random Forest on CV data:  0.8809523809523809\n"
     ]
    }
   ],
   "source": [
    "#Predict X_test\n",
    "\n",
    "pred = grid.predict(X_test)\n",
    "\n",
    "print(\"Accuracy for Random Forest on CV data: \",accuracy_score(y_test,pred))"
   ]
  },
  {
   "cell_type": "markdown",
   "metadata": {},
   "source": [
    "### Matrix Confusion"
   ]
  },
  {
   "cell_type": "code",
   "execution_count": 48,
   "metadata": {},
   "outputs": [
    {
     "data": {
      "text/plain": [
       "<sklearn.metrics._plot.confusion_matrix.ConfusionMatrixDisplay at 0x7f5cd4ca6fa0>"
      ]
     },
     "execution_count": 48,
     "metadata": {},
     "output_type": "execute_result"
    },
    {
     "data": {
      "image/png": "[encoded data removed]",
      "text/plain": [
       "<Figure size 1296x432 with 2 Axes>"
      ]
     },
     "metadata": {},
     "output_type": "display_data"
    }
   ],
   "source": [
    "#matrix_confusion diagramme\n",
    "\n",
    "from sklearn.metrics import plot_confusion_matrix\n",
    "\n",
    "plot_confusion_matrix(grid, X_test, y_test, cmap=plt.cm.Oranges, normalize=None)"
   ]
  },
  {
   "cell_type": "code",
   "execution_count": 49,
   "metadata": {},
   "outputs": [
    {
     "name": "stdout",
     "output_type": "stream",
     "text": [
      "Confusion Matrix: \n",
      " [[36  4]\n",
      " [ 6 38]]\n"
     ]
    }
   ],
   "source": [
    "#print the matrix confusion\n",
    "\n",
    "print('Confusion Matrix: \\n', confusion_matrix(y_test, pred))"
   ]
  },
  {
   "cell_type": "code",
   "execution_count": 50,
   "metadata": {},
   "outputs": [
    {
     "name": "stdout",
     "output_type": "stream",
     "text": [
      "              precision    recall  f1-score   support\n",
      "\n",
      "           0       0.99      1.00      1.00       129\n",
      "           1       1.00      0.99      1.00       121\n",
      "\n",
      "    accuracy                           1.00       250\n",
      "   macro avg       1.00      1.00      1.00       250\n",
      "weighted avg       1.00      1.00      1.00       250\n",
      "\n"
     ]
    }
   ],
   "source": [
    "#Evaluate the model on the training data set\n",
    "\n",
    "pred = grid.predict(X_train)\n",
    "\n",
    "print(classification_report(y_train, pred))"
   ]
  }
 ],
 "metadata": {
  "colab": {
   "collapsed_sections": [],
   "name": "Tess_REDIE_Evaluation.ipynb",
   "provenance": []
  },
  "kernelspec": {
   "display_name": "Python 3 (ipykernel)",
   "language": "python",
   "name": "python3"
  },
  "language_info": {
   "codemirror_mode": {
    "name": "ipython",
    "version": 3
   },
   "file_extension": ".py",
   "mimetype": "text/x-python",
   "name": "python",
   "nbconvert_exporter": "python",
   "pygments_lexer": "ipython3",
   "version": "3.8.10"
  }
 },
 "nbformat": 4,
 "nbformat_minor": 1
}
